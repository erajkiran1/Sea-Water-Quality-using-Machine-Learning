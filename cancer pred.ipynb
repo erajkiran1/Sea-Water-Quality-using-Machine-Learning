{
 "cells": [
  {
   "cell_type": "code",
   "execution_count": 1,
   "id": "03e39c35",
   "metadata": {},
   "outputs": [],
   "source": [
    "import pandas as pd\n",
    "import warnings\n",
    "warnings.filterwarnings(\"ignore\")"
   ]
  },
  {
   "cell_type": "code",
   "execution_count": 2,
   "id": "5d9c17e1",
   "metadata": {},
   "outputs": [],
   "source": [
    "data = pd.read_excel(\"patient_data.xlsx\")"
   ]
  },
  {
   "cell_type": "code",
   "execution_count": 3,
   "id": "7eb804a0",
   "metadata": {},
   "outputs": [
    {
     "data": {
      "text/plain": [
       "Index(['Sl.No', 'Patient #', 'Region', 'Gender', 'Age', 'Smokes',\n",
       "       'No of Ciggarets per day', 'No of Hrs Sleep per Day',\n",
       "       'No of Hrs Exercise per Day', 'Diet', 'Alcoholic', 'Height',\n",
       "       'Complexion', 'Cancer Diagnosis Result'],\n",
       "      dtype='object')"
      ]
     },
     "execution_count": 3,
     "metadata": {},
     "output_type": "execute_result"
    }
   ],
   "source": [
    "data.columns"
   ]
  },
  {
   "cell_type": "code",
   "execution_count": 4,
   "id": "dacbe3ec",
   "metadata": {},
   "outputs": [],
   "source": [
    "data = data.dropna()"
   ]
  },
  {
   "cell_type": "code",
   "execution_count": 5,
   "id": "7697d28a",
   "metadata": {},
   "outputs": [],
   "source": [
    "\n",
    "X = data.drop(columns=['Cancer Diagnosis Result'])\n",
    "y = data['Cancer Diagnosis Result']"
   ]
  },
  {
   "cell_type": "code",
   "execution_count": 6,
   "id": "64109cbb",
   "metadata": {},
   "outputs": [
    {
     "data": {
      "text/html": [
       "<div><div id=ccaf150d-b136-4be1-b6bc-96986273be01 style=\"display:none; background-color:#9D6CFF; color:white; width:200px; height:30px; padding-left:5px; border-radius:4px; flex-direction:row; justify-content:space-around; align-items:center;\" onmouseover=\"this.style.backgroundColor='#BA9BF8'\" onmouseout=\"this.style.backgroundColor='#9D6CFF'\" onclick=\"window.commands?.execute('create-mitosheet-from-dataframe-output');\">See Full Dataframe in Mito</div> <script> if (window.commands.hasCommand('create-mitosheet-from-dataframe-output')) document.getElementById('ccaf150d-b136-4be1-b6bc-96986273be01').style.display = 'flex' </script> <table border=\"1\" class=\"dataframe\">\n",
       "  <thead>\n",
       "    <tr style=\"text-align: right;\">\n",
       "      <th></th>\n",
       "      <th>Sl.No</th>\n",
       "      <th>Patient #</th>\n",
       "      <th>Region</th>\n",
       "      <th>Gender</th>\n",
       "      <th>Age</th>\n",
       "      <th>Smokes</th>\n",
       "      <th>No of Ciggarets per day</th>\n",
       "      <th>No of Hrs Sleep per Day</th>\n",
       "      <th>No of Hrs Exercise per Day</th>\n",
       "      <th>Diet</th>\n",
       "      <th>Alcoholic</th>\n",
       "      <th>Height</th>\n",
       "      <th>Complexion</th>\n",
       "    </tr>\n",
       "  </thead>\n",
       "  <tbody>\n",
       "    <tr>\n",
       "      <th>0</th>\n",
       "      <td>1</td>\n",
       "      <td>Patient 1</td>\n",
       "      <td>NI</td>\n",
       "      <td>Male</td>\n",
       "      <td>24.0</td>\n",
       "      <td>NO</td>\n",
       "      <td>15.0</td>\n",
       "      <td>8.0</td>\n",
       "      <td>2.66</td>\n",
       "      <td>Vegetarian</td>\n",
       "      <td>Occasional</td>\n",
       "      <td>5.687164</td>\n",
       "      <td>Fair</td>\n",
       "    </tr>\n",
       "    <tr>\n",
       "      <th>1</th>\n",
       "      <td>2</td>\n",
       "      <td>Patient 2</td>\n",
       "      <td>SI</td>\n",
       "      <td>Male</td>\n",
       "      <td>32.0</td>\n",
       "      <td>YES</td>\n",
       "      <td>27.0</td>\n",
       "      <td>9.0</td>\n",
       "      <td>1.27</td>\n",
       "      <td>NonVegetarian</td>\n",
       "      <td>Regular</td>\n",
       "      <td>4.071704</td>\n",
       "      <td>Dark</td>\n",
       "    </tr>\n",
       "    <tr>\n",
       "      <th>2</th>\n",
       "      <td>3</td>\n",
       "      <td>Patient 3</td>\n",
       "      <td>SI</td>\n",
       "      <td>Male</td>\n",
       "      <td>28.0</td>\n",
       "      <td>YES</td>\n",
       "      <td>29.0</td>\n",
       "      <td>10.0</td>\n",
       "      <td>1.18</td>\n",
       "      <td>Vegetarian</td>\n",
       "      <td>Occasional</td>\n",
       "      <td>5.509791</td>\n",
       "      <td>Wheatish</td>\n",
       "    </tr>\n",
       "    <tr>\n",
       "      <th>4</th>\n",
       "      <td>5</td>\n",
       "      <td>Patient 5</td>\n",
       "      <td>NE</td>\n",
       "      <td>Female</td>\n",
       "      <td>58.0</td>\n",
       "      <td>NO</td>\n",
       "      <td>21.0</td>\n",
       "      <td>9.0</td>\n",
       "      <td>1.55</td>\n",
       "      <td>Vegetarian</td>\n",
       "      <td>Regular</td>\n",
       "      <td>5.636116</td>\n",
       "      <td>Fair</td>\n",
       "    </tr>\n",
       "    <tr>\n",
       "      <th>5</th>\n",
       "      <td>6</td>\n",
       "      <td>Patient 6</td>\n",
       "      <td>SI</td>\n",
       "      <td>Female</td>\n",
       "      <td>27.0</td>\n",
       "      <td>NO</td>\n",
       "      <td>19.0</td>\n",
       "      <td>10.0</td>\n",
       "      <td>1.95</td>\n",
       "      <td>NonVegetarian</td>\n",
       "      <td>Regular</td>\n",
       "      <td>5.466268</td>\n",
       "      <td>Brown</td>\n",
       "    </tr>\n",
       "  </tbody>\n",
       "</table></div>"
      ],
      "text/plain": [
       "   Sl.No  Patient # Region  Gender   Age Smokes  No of Ciggarets per day  \\\n",
       "0      1  Patient 1     NI    Male  24.0     NO                     15.0   \n",
       "1      2  Patient 2     SI    Male  32.0    YES                     27.0   \n",
       "2      3  Patient 3     SI    Male  28.0    YES                     29.0   \n",
       "4      5  Patient 5     NE  Female  58.0     NO                     21.0   \n",
       "5      6  Patient 6     SI  Female  27.0     NO                     19.0   \n",
       "\n",
       "   No of Hrs Sleep per Day No of Hrs Exercise per Day           Diet  \\\n",
       "0                      8.0                       2.66     Vegetarian   \n",
       "1                      9.0                       1.27  NonVegetarian   \n",
       "2                     10.0                       1.18     Vegetarian   \n",
       "4                      9.0                       1.55     Vegetarian   \n",
       "5                     10.0                       1.95  NonVegetarian   \n",
       "\n",
       "    Alcoholic    Height Complexion  \n",
       "0  Occasional  5.687164       Fair  \n",
       "1     Regular  4.071704       Dark  \n",
       "2  Occasional  5.509791   Wheatish  \n",
       "4     Regular  5.636116       Fair  \n",
       "5     Regular  5.466268      Brown  "
      ]
     },
     "execution_count": 6,
     "metadata": {},
     "output_type": "execute_result"
    }
   ],
   "source": [
    "X.head()"
   ]
  },
  {
   "cell_type": "code",
   "execution_count": 7,
   "id": "68f38176",
   "metadata": {},
   "outputs": [],
   "source": [
    "X = pd.get_dummies(X)"
   ]
  },
  {
   "cell_type": "code",
   "execution_count": 8,
   "id": "e51583d2",
   "metadata": {},
   "outputs": [
    {
     "data": {
      "text/html": [
       "<div><div id=50293760-d5ac-4db7-a9b7-6e82b5291dc3 style=\"display:none; background-color:#9D6CFF; color:white; width:200px; height:30px; padding-left:5px; border-radius:4px; flex-direction:row; justify-content:space-around; align-items:center;\" onmouseover=\"this.style.backgroundColor='#BA9BF8'\" onmouseout=\"this.style.backgroundColor='#9D6CFF'\" onclick=\"window.commands?.execute('create-mitosheet-from-dataframe-output');\">See Full Dataframe in Mito</div> <script> if (window.commands.hasCommand('create-mitosheet-from-dataframe-output')) document.getElementById('50293760-d5ac-4db7-a9b7-6e82b5291dc3').style.display = 'flex' </script> <table border=\"1\" class=\"dataframe\">\n",
       "  <thead>\n",
       "    <tr style=\"text-align: right;\">\n",
       "      <th></th>\n",
       "      <th>Sl.No</th>\n",
       "      <th>Age</th>\n",
       "      <th>No of Ciggarets per day</th>\n",
       "      <th>No of Hrs Sleep per Day</th>\n",
       "      <th>Height</th>\n",
       "      <th>Patient #_Patient 1</th>\n",
       "      <th>Patient #_Patient 10</th>\n",
       "      <th>Patient #_Patient 100</th>\n",
       "      <th>Patient #_Patient 1000</th>\n",
       "      <th>Patient #_Patient 1001</th>\n",
       "      <th>...</th>\n",
       "      <th>No of Hrs Exercise per Day_1.84hrs</th>\n",
       "      <th>No of Hrs Exercise per Day_2.32Hrs</th>\n",
       "      <th>Diet_NonVegetarian</th>\n",
       "      <th>Diet_Vegetarian</th>\n",
       "      <th>Alcoholic_Occasional</th>\n",
       "      <th>Alcoholic_Regular</th>\n",
       "      <th>Complexion_Brown</th>\n",
       "      <th>Complexion_Dark</th>\n",
       "      <th>Complexion_Fair</th>\n",
       "      <th>Complexion_Wheatish</th>\n",
       "    </tr>\n",
       "  </thead>\n",
       "  <tbody>\n",
       "    <tr>\n",
       "      <th>0</th>\n",
       "      <td>1</td>\n",
       "      <td>24.0</td>\n",
       "      <td>15.0</td>\n",
       "      <td>8.0</td>\n",
       "      <td>5.687164</td>\n",
       "      <td>1</td>\n",
       "      <td>0</td>\n",
       "      <td>0</td>\n",
       "      <td>0</td>\n",
       "      <td>0</td>\n",
       "      <td>...</td>\n",
       "      <td>0</td>\n",
       "      <td>0</td>\n",
       "      <td>0</td>\n",
       "      <td>1</td>\n",
       "      <td>1</td>\n",
       "      <td>0</td>\n",
       "      <td>0</td>\n",
       "      <td>0</td>\n",
       "      <td>1</td>\n",
       "      <td>0</td>\n",
       "    </tr>\n",
       "    <tr>\n",
       "      <th>1</th>\n",
       "      <td>2</td>\n",
       "      <td>32.0</td>\n",
       "      <td>27.0</td>\n",
       "      <td>9.0</td>\n",
       "      <td>4.071704</td>\n",
       "      <td>0</td>\n",
       "      <td>0</td>\n",
       "      <td>0</td>\n",
       "      <td>0</td>\n",
       "      <td>0</td>\n",
       "      <td>...</td>\n",
       "      <td>0</td>\n",
       "      <td>0</td>\n",
       "      <td>1</td>\n",
       "      <td>0</td>\n",
       "      <td>0</td>\n",
       "      <td>1</td>\n",
       "      <td>0</td>\n",
       "      <td>1</td>\n",
       "      <td>0</td>\n",
       "      <td>0</td>\n",
       "    </tr>\n",
       "    <tr>\n",
       "      <th>2</th>\n",
       "      <td>3</td>\n",
       "      <td>28.0</td>\n",
       "      <td>29.0</td>\n",
       "      <td>10.0</td>\n",
       "      <td>5.509791</td>\n",
       "      <td>0</td>\n",
       "      <td>0</td>\n",
       "      <td>0</td>\n",
       "      <td>0</td>\n",
       "      <td>0</td>\n",
       "      <td>...</td>\n",
       "      <td>0</td>\n",
       "      <td>0</td>\n",
       "      <td>0</td>\n",
       "      <td>1</td>\n",
       "      <td>1</td>\n",
       "      <td>0</td>\n",
       "      <td>0</td>\n",
       "      <td>0</td>\n",
       "      <td>0</td>\n",
       "      <td>1</td>\n",
       "    </tr>\n",
       "    <tr>\n",
       "      <th>4</th>\n",
       "      <td>5</td>\n",
       "      <td>58.0</td>\n",
       "      <td>21.0</td>\n",
       "      <td>9.0</td>\n",
       "      <td>5.636116</td>\n",
       "      <td>0</td>\n",
       "      <td>0</td>\n",
       "      <td>0</td>\n",
       "      <td>0</td>\n",
       "      <td>0</td>\n",
       "      <td>...</td>\n",
       "      <td>0</td>\n",
       "      <td>0</td>\n",
       "      <td>0</td>\n",
       "      <td>1</td>\n",
       "      <td>0</td>\n",
       "      <td>1</td>\n",
       "      <td>0</td>\n",
       "      <td>0</td>\n",
       "      <td>1</td>\n",
       "      <td>0</td>\n",
       "    </tr>\n",
       "    <tr>\n",
       "      <th>5</th>\n",
       "      <td>6</td>\n",
       "      <td>27.0</td>\n",
       "      <td>19.0</td>\n",
       "      <td>10.0</td>\n",
       "      <td>5.466268</td>\n",
       "      <td>0</td>\n",
       "      <td>0</td>\n",
       "      <td>0</td>\n",
       "      <td>0</td>\n",
       "      <td>0</td>\n",
       "      <td>...</td>\n",
       "      <td>0</td>\n",
       "      <td>0</td>\n",
       "      <td>1</td>\n",
       "      <td>0</td>\n",
       "      <td>0</td>\n",
       "      <td>1</td>\n",
       "      <td>1</td>\n",
       "      <td>0</td>\n",
       "      <td>0</td>\n",
       "      <td>0</td>\n",
       "    </tr>\n",
       "  </tbody>\n",
       "</table></div>"
      ],
      "text/plain": [
       "   Sl.No   Age  No of Ciggarets per day  No of Hrs Sleep per Day    Height  \\\n",
       "0      1  24.0                     15.0                      8.0  5.687164   \n",
       "1      2  32.0                     27.0                      9.0  4.071704   \n",
       "2      3  28.0                     29.0                     10.0  5.509791   \n",
       "4      5  58.0                     21.0                      9.0  5.636116   \n",
       "5      6  27.0                     19.0                     10.0  5.466268   \n",
       "\n",
       "   Patient #_Patient 1  Patient #_Patient 10  Patient #_Patient 100  \\\n",
       "0                    1                     0                      0   \n",
       "1                    0                     0                      0   \n",
       "2                    0                     0                      0   \n",
       "4                    0                     0                      0   \n",
       "5                    0                     0                      0   \n",
       "\n",
       "   Patient #_Patient 1000  Patient #_Patient 1001  ...  \\\n",
       "0                       0                       0  ...   \n",
       "1                       0                       0  ...   \n",
       "2                       0                       0  ...   \n",
       "4                       0                       0  ...   \n",
       "5                       0                       0  ...   \n",
       "\n",
       "   No of Hrs Exercise per Day_1.84hrs  No of Hrs Exercise per Day_2.32Hrs  \\\n",
       "0                                   0                                   0   \n",
       "1                                   0                                   0   \n",
       "2                                   0                                   0   \n",
       "4                                   0                                   0   \n",
       "5                                   0                                   0   \n",
       "\n",
       "   Diet_NonVegetarian  Diet_Vegetarian  Alcoholic_Occasional  \\\n",
       "0                   0                1                     1   \n",
       "1                   1                0                     0   \n",
       "2                   0                1                     1   \n",
       "4                   0                1                     0   \n",
       "5                   1                0                     0   \n",
       "\n",
       "   Alcoholic_Regular  Complexion_Brown  Complexion_Dark  Complexion_Fair  \\\n",
       "0                  0                 0                0                1   \n",
       "1                  1                 0                1                0   \n",
       "2                  0                 0                0                0   \n",
       "4                  1                 0                0                1   \n",
       "5                  1                 1                0                0   \n",
       "\n",
       "   Complexion_Wheatish  \n",
       "0                    0  \n",
       "1                    0  \n",
       "2                    1  \n",
       "4                    0  \n",
       "5                    0  \n",
       "\n",
       "[5 rows x 1291 columns]"
      ]
     },
     "execution_count": 8,
     "metadata": {},
     "output_type": "execute_result"
    }
   ],
   "source": [
    "X.head()"
   ]
  },
  {
   "cell_type": "code",
   "execution_count": 9,
   "id": "d7b1a55f",
   "metadata": {},
   "outputs": [
    {
     "data": {
      "text/plain": [
       "0    Negative\n",
       "1    Positive\n",
       "2    Negative\n",
       "4    Negative\n",
       "5    Negative\n",
       "Name: Cancer Diagnosis Result, dtype: object"
      ]
     },
     "execution_count": 9,
     "metadata": {},
     "output_type": "execute_result"
    }
   ],
   "source": [
    "y.head()"
   ]
  },
  {
   "cell_type": "code",
   "execution_count": 10,
   "id": "e094428f",
   "metadata": {},
   "outputs": [],
   "source": [
    "y =y.apply(lambda x : 0 if x=='Negative' else 1)"
   ]
  },
  {
   "cell_type": "code",
   "execution_count": 11,
   "id": "68226fd1",
   "metadata": {},
   "outputs": [
    {
     "data": {
      "text/plain": [
       "0       0\n",
       "1       1\n",
       "2       0\n",
       "4       0\n",
       "5       0\n",
       "       ..\n",
       "1005    1\n",
       "1006    0\n",
       "1007    1\n",
       "1008    0\n",
       "1009    0\n",
       "Name: Cancer Diagnosis Result, Length: 971, dtype: int64"
      ]
     },
     "execution_count": 11,
     "metadata": {},
     "output_type": "execute_result"
    }
   ],
   "source": [
    "y"
   ]
  },
  {
   "cell_type": "code",
   "execution_count": 12,
   "id": "5e9035cb",
   "metadata": {},
   "outputs": [],
   "source": [
    "from sklearn.model_selection import train_test_split\n",
    "\n",
    "X_train, X_test, y_train, y_test = train_test_split(X, y, test_size=0.33, random_state=42,stratify=y)"
   ]
  },
  {
   "cell_type": "code",
   "execution_count": 13,
   "id": "b4d06d2c",
   "metadata": {},
   "outputs": [],
   "source": [
    "import pickle\n",
    "\n",
    "model = pickle.load(open(\"algo.pkl\", \"rb\"))"
   ]
  },
  {
   "cell_type": "code",
   "execution_count": 14,
   "id": "902f24ad",
   "metadata": {},
   "outputs": [
    {
     "data": {
      "text/plain": [
       "<classify_algo.rajkiran_classify at 0x7fc65306c910>"
      ]
     },
     "execution_count": 14,
     "metadata": {},
     "output_type": "execute_result"
    }
   ],
   "source": [
    "model"
   ]
  },
  {
   "cell_type": "code",
   "execution_count": 15,
   "id": "76bc2b7f",
   "metadata": {},
   "outputs": [
    {
     "name": "stdout",
     "output_type": "stream",
     "text": [
      "[15:26:26] WARNING: /Users/runner/miniforge3/conda-bld/xgboost-split_1645117948562/work/src/learner.cc:1115: Starting in XGBoost 1.3.0, the default evaluation metric used with the objective 'binary:logistic' was changed from 'error' to 'logloss'. Explicitly set eval_metric if you'd like to restore the old behavior.\n"
     ]
    }
   ],
   "source": [
    "model.fit(X_train,y_train)"
   ]
  },
  {
   "cell_type": "code",
   "execution_count": 16,
   "id": "151bc32b",
   "metadata": {},
   "outputs": [
    {
     "name": "stdout",
     "output_type": "stream",
     "text": [
      "              precision    recall  f1-score   support\n",
      "\n",
      "           0       0.82      0.81      0.82       155\n",
      "           1       0.83      0.84      0.83       166\n",
      "\n",
      "    accuracy                           0.83       321\n",
      "   macro avg       0.83      0.83      0.83       321\n",
      "weighted avg       0.83      0.83      0.83       321\n",
      "\n"
     ]
    }
   ],
   "source": [
    "predictions = model.predict(X_test,y_test)"
   ]
  },
  {
   "cell_type": "markdown",
   "id": "e90e253c",
   "metadata": {},
   "source": [
    "pickle.dump(favorite_color, open(\"save.p\", \"wb\"))"
   ]
  },
  {
   "cell_type": "code",
   "execution_count": null,
   "id": "ff39fd63",
   "metadata": {},
   "outputs": [],
   "source": []
  },
  {
   "cell_type": "code",
   "execution_count": 17,
   "id": "59e71816",
   "metadata": {},
   "outputs": [
    {
     "name": "stdout",
     "output_type": "stream",
     "text": [
      "[15:29:00] WARNING: /Users/runner/miniforge3/conda-bld/xgboost-split_1645117948562/work/src/learner.cc:1115: Starting in XGBoost 1.3.0, the default evaluation metric used with the objective 'binary:logistic' was changed from 'error' to 'logloss'. Explicitly set eval_metric if you'd like to restore the old behavior.\n"
     ]
    }
   ],
   "source": [
    "from xgboost import XGBClassifier\n",
    "from sklearn.ensemble import GradientBoostingClassifier\n",
    "from sklearn.ensemble import RandomForestClassifier\n",
    "from sklearn.linear_model import LogisticRegression\n",
    "\n",
    "\n",
    "xgb_model = XGBClassifier(random_state=42).fit(X_train,y_train)\n",
    "gb_model = GradientBoostingClassifier(random_state=42).fit(X_train,y_train)\n",
    "rf_model = RandomForestClassifier(random_state=42).fit(X_train,y_train)\n",
    "lr_model = LogisticRegression().fit(X_train,y_train)\n",
    "\n",
    "\n",
    "xgb_pred = xgb_model.predict(X_test)\n",
    "gb_pred = gb_model.predict(X_test)\n",
    "rf_pred = rf_model.predict(X_test)\n",
    "lr_pred = lr_model.predict(X_test)"
   ]
  },
  {
   "cell_type": "code",
   "execution_count": 19,
   "id": "5cd3f788",
   "metadata": {},
   "outputs": [
    {
     "name": "stdout",
     "output_type": "stream",
     "text": [
      "              precision    recall  f1-score   support\n",
      "\n",
      "           0       0.44      0.43      0.44       155\n",
      "           1       0.48      0.49      0.48       166\n",
      "\n",
      "    accuracy                           0.46       321\n",
      "   macro avg       0.46      0.46      0.46       321\n",
      "weighted avg       0.46      0.46      0.46       321\n",
      "\n",
      "\n",
      "              precision    recall  f1-score   support\n",
      "\n",
      "           0       0.51      0.45      0.48       155\n",
      "           1       0.54      0.59      0.56       166\n",
      "\n",
      "    accuracy                           0.52       321\n",
      "   macro avg       0.52      0.52      0.52       321\n",
      "weighted avg       0.52      0.52      0.52       321\n",
      "\n",
      "\n",
      "              precision    recall  f1-score   support\n",
      "\n",
      "           0       0.50      0.43      0.46       155\n",
      "           1       0.53      0.60      0.56       166\n",
      "\n",
      "    accuracy                           0.51       321\n",
      "   macro avg       0.51      0.51      0.51       321\n",
      "weighted avg       0.51      0.51      0.51       321\n",
      "\n",
      "\n",
      "              precision    recall  f1-score   support\n",
      "\n",
      "           0       0.48      0.54      0.51       155\n",
      "           1       0.51      0.46      0.48       166\n",
      "\n",
      "    accuracy                           0.50       321\n",
      "   macro avg       0.50      0.50      0.50       321\n",
      "weighted avg       0.50      0.50      0.49       321\n",
      "\n",
      "\n",
      "              precision    recall  f1-score   support\n",
      "\n",
      "           0       0.82      0.81      0.82       155\n",
      "           1       0.83      0.84      0.83       166\n",
      "\n",
      "    accuracy                           0.83       321\n",
      "   macro avg       0.83      0.83      0.83       321\n",
      "weighted avg       0.83      0.83      0.83       321\n",
      "\n"
     ]
    }
   ],
   "source": [
    "from sklearn.metrics import classification_report\n",
    "\n",
    "print(classification_report(y_test,xgb_pred))\n",
    "print()\n",
    "print(classification_report(y_test,gb_pred))\n",
    "print()\n",
    "print(classification_report(y_test,rf_pred))\n",
    "print()\n",
    "print(classification_report(y_test,lr_pred))\n",
    "print()\n",
    "print(classification_report(y_test,predictions))"
   ]
  },
  {
   "cell_type": "code",
   "execution_count": 20,
   "id": "4beb0cbd",
   "metadata": {},
   "outputs": [],
   "source": [
    "from sklearn.metrics import classification_report,confusion_matrix"
   ]
  },
  {
   "cell_type": "code",
   "execution_count": 23,
   "id": "98c98da3",
   "metadata": {},
   "outputs": [
    {
     "name": "stdout",
     "output_type": "stream",
     "text": [
      "[[67 85]\n",
      " [88 81]]\n",
      "\n",
      "[[70 68]\n",
      " [85 98]]\n",
      "\n",
      "[[66 67]\n",
      " [89 99]]\n",
      "\n",
      "[[83 90]\n",
      " [72 76]]\n",
      "\n",
      "[[126  27]\n",
      " [ 29 139]]\n"
     ]
    }
   ],
   "source": [
    "print(confusion_matrix(xgb_pred,y_test))\n",
    "print()\n",
    "print(confusion_matrix(gb_pred,y_test))\n",
    "print()\n",
    "print(confusion_matrix(rf_pred,y_test))\n",
    "print()\n",
    "print(confusion_matrix(lr_pred,y_test))\n",
    "print()\n",
    "print(confusion_matrix(predictions,y_test))"
   ]
  },
  {
   "cell_type": "code",
   "execution_count": null,
   "id": "ae3278f0",
   "metadata": {},
   "outputs": [],
   "source": []
  }
 ],
 "metadata": {
  "kernelspec": {
   "display_name": "Python 3 (ipykernel)",
   "language": "python",
   "name": "python3"
  },
  "language_info": {
   "codemirror_mode": {
    "name": "ipython",
    "version": 3
   },
   "file_extension": ".py",
   "mimetype": "text/x-python",
   "name": "python",
   "nbconvert_exporter": "python",
   "pygments_lexer": "ipython3",
   "version": "3.9.7"
  }
 },
 "nbformat": 4,
 "nbformat_minor": 5
}
